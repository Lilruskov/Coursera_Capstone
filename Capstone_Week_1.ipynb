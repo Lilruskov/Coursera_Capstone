{
 "cells": [
  {
   "cell_type": "markdown",
   "metadata": {
    "toc": true
   },
   "source": [
    "<h1>Table of Contents<span class=\"tocSkip\"></span></h1>\n",
    "<div class=\"toc\"><ul class=\"toc-item\"><li><span><a href=\"#Capstone-Project---The-Battle-of-the-Neighborhoods-(Week-1)\" data-toc-modified-id=\"Capstone-Project---The-Battle-of-the-Neighborhoods-(Week-1)-1\"><span class=\"toc-item-num\">1&nbsp;&nbsp;</span>Capstone Project - The Battle of the Neighborhoods (Week 1)</a></span><ul class=\"toc-item\"><li><span><a href=\"#Table-of-contents\" data-toc-modified-id=\"Table-of-contents-1.1\"><span class=\"toc-item-num\">1.1&nbsp;&nbsp;</span>Table of contents</a></span></li><li><span><a href=\"#Introduction:-Business-Problem-\" data-toc-modified-id=\"Introduction:-Business-Problem--1.2\"><span class=\"toc-item-num\">1.2&nbsp;&nbsp;</span>Introduction: Business Problem <a name=\"introduction\"></a></a></span></li><li><span><a href=\"#Data-\" data-toc-modified-id=\"Data--1.3\"><span class=\"toc-item-num\">1.3&nbsp;&nbsp;</span>Data <a name=\"data\"></a></a></span></li><li><span><a href=\"#Methodology-\" data-toc-modified-id=\"Methodology--1.4\"><span class=\"toc-item-num\">1.4&nbsp;&nbsp;</span>Methodology <a name=\"methodology\"></a></a></span></li></ul></li></ul></div>"
   ]
  },
  {
   "cell_type": "markdown",
   "metadata": {},
   "source": [
    "# Capstone Project - The Battle of the Neighborhoods (Week 1)"
   ]
  },
  {
   "cell_type": "markdown",
   "metadata": {},
   "source": [
    "## Table of contents\n",
    "* [Introduction: Business Problem](#introduction)\n",
    "* [Data](#data)\n",
    "* [Methodology](#methodology)\n",
    "* [Analysis](#analysis)\n",
    "* [Results and Discussion](#results)\n",
    "* [Conclusion](#conclusion)"
   ]
  },
  {
   "cell_type": "markdown",
   "metadata": {},
   "source": [
    "## Introduction: Business Problem <a name=\"introduction\"></a>"
   ]
  },
  {
   "cell_type": "markdown",
   "metadata": {},
   "source": [
    "In this project we will try to find an optimal location for a restaurant in **York**. Specifically, this report will be targeted to stakeholders interested in opening a **restaurant** in **York**, Canada.\n",
    "\n",
    "Since there are lots of restaurants in York we will try to detect **locations that are not already crowded with restaurants**. \n",
    "\n",
    "We will use our data science powers to generate a few most promissing neighborhoods based on this criteria. Advantages of each area will then be clearly expressed so that best possible final location can be chosen by stakeholders."
   ]
  },
  {
   "cell_type": "markdown",
   "metadata": {},
   "source": [
    "## Data <a name=\"data\"></a>"
   ]
  },
  {
   "cell_type": "markdown",
   "metadata": {},
   "source": [
    "Based on definition of our problem, factors that will influence our decission are:\n",
    "* Number of existing restaurants in the neighborhood (any type of restaurant)\n",
    "* Some characteristics of neighborhoods\n",
    "\n",
    "We decided to use regularly spaced grid of locations, centered around city center, to define our neighborhoods.\n",
    "\n",
    "Following data sources will be needed to: \n",
    "* Extract/generate the required data by scraping it from the following website: https://en.wikipedia.org/wiki/List_of_postal_codes_of_Canada:_M\n",
    "* Transform and treat the scraped data\n",
    "* Know the number of restaurants and their type and location in every neighborhood using **Foursquare API**"
   ]
  },
  {
   "cell_type": "markdown",
   "metadata": {},
   "source": [
    "## Methodology <a name=\"methodology\"></a>"
   ]
  },
  {
   "cell_type": "markdown",
   "metadata": {},
   "source": [
    "First of all, we will scrap data from https://en.wikipedia.org/wiki/List_of_postal_codes_of_Canada:_M and we will transform it to a dataframe that we can use in our study. Next, we will convert addresses into their equivalent latitude and longitude values. Also, we will use the Foursquare API to explore neighborhoods in York and we will use the **explore** function to get the most common venue categories in each neighborhood, and then use this feature to group the neighborhoods into clusters. You will use the *k*-means clustering algorithm to complete this task. Finally, you will use the Folium library to visualize the neighborhoods in York and their emerging clusters."
   ]
  }
 ],
 "metadata": {
  "kernelspec": {
   "display_name": "Python 3",
   "language": "python",
   "name": "python3"
  },
  "language_info": {
   "codemirror_mode": {
    "name": "ipython",
    "version": 3
   },
   "file_extension": ".py",
   "mimetype": "text/x-python",
   "name": "python",
   "nbconvert_exporter": "python",
   "pygments_lexer": "ipython3",
   "version": "3.7.1"
  },
  "toc": {
   "base_numbering": 1,
   "nav_menu": {},
   "number_sections": true,
   "sideBar": true,
   "skip_h1_title": false,
   "title_cell": "Table of Contents",
   "title_sidebar": "Table of Contents",
   "toc_cell": true,
   "toc_position": {},
   "toc_section_display": true,
   "toc_window_display": true
  }
 },
 "nbformat": 4,
 "nbformat_minor": 4
}
